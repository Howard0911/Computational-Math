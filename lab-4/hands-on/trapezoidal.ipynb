{
 "cells": [
  {
   "cell_type": "markdown",
   "metadata": {},
   "source": [
    "# Numerical Integration:  Trapezoidal Rule\n",
    "---\n",
    "## In mathematics, and more specifically in numerical analysis, the trapezoidal rule is a technique for approximating the definite integral.\n",
    "\n",
    "<img src=\"https://www.emathhelp.net/images/calc/322_trapezoidal_rule.png\" width=350>\n",
    "\n",
    "---\n",
    "\n",
    "### The definite integral of $f(x)$ is equal to the (net) area under the curve $y = f(x)$ over the interval $[a,\\,b]$.\n",
    "### Riemann sums approximate definite integrals by using sums of rectangles to approximate the area.\n",
    "\n",
    "### The trapezoid rule gives a better approximation of a definite integral by summing the areas of the trapezoids connecting the points\n",
    "### $$(x_{i}, 0),\\,(x_{i+1},0),\\,(x_{i},f(x_{i})),\\,(x_{i+1},f(x_{i+1}))$$\n",
    "### for each sub-interval $[x_{i},\\,x_{i+1}]$ of a partition.\n",
    "\n",
    "### Note that the area of each trapezoid is\n",
    "### $$(x_{i+1} - x_{i}) f(x_{i}) + \\frac{1}{2} (x_{i+1} - x_{i})(f(x_{i+1}) - f(x_{i})) = \\frac{1}{2}(f(x_{i+1}) + f(x_{i}))(x_{i+1} - x_{i})$$\n",
    "\n",
    "<img src=\"https://upload.wikimedia.org/wikipedia/commons/thumb/d/d1/Integration_num_trapezes_notation.svg/2000px-Integration_num_trapezes_notation.svg.png\" width=350>\n"
   ]
  },
  {
   "cell_type": "markdown",
   "metadata": {},
   "source": [
    "---\n",
    "## Formula\n",
    "\n",
    "### For a partitition $x_0 = a < x_1 < \\cdots < x_n = b$, the trapezoid rule formula simplifies to\n",
    "### $$\\int_a^b\\,f(x)\\,dx \\approx \\frac{1}{2} \\sum_{i=1}^n (f(x_i) + f(x_{i-1})) (x_i - x_{i-1})$$\n",
    "\n",
    "### In particular, given an integer $N$, the trapezoid rule for $N$ sub-intervals of $[a,\\,b]$ of equal length is\n",
    "### $$T_N(f) = \\frac{\\Delta x}{2} \\sum_{i = 1}^N (f(x_i) + f(x_{i-1}))$$\n",
    "### where $\\Delta x = \\frac{b - a}{N}$ is the length of the sub-intervals and $x_i = a + i\\,\\Delta x$.\n",
    "\n",
    "### Notice that the trapezoid is the average of the left and right Riemann sums\n",
    "### $$\\begin{aligned} T_N(f) &= \\frac{\\Delta x}{2} \\sum_{i = 1}^N (f(x_i) + f(x_{i-1}))\\\\&= \\frac{1}{2} \\left( \\sum_{i=1}^N\\,f(x_i)\\,\\Delta x + \\sum_{i=1}^N\\,f(x_{i-1})\\,\\Delta x \\right)\\end{aligned}$$"
   ]
  },
  {
   "cell_type": "markdown",
   "metadata": {},
   "source": [
    "---\n",
    "## Prerequisites\n",
    "\n",
    "### 1. The integrand function $f(x)$.\n",
    "### 2. The interval $[a,\\,b]$.\n",
    "### 3. The positive integer $N$ where $N$ is a number of sub-intervals of  $[a,\\,b]$."
   ]
  },
  {
   "cell_type": "markdown",
   "metadata": {},
   "source": [
    "---\n",
    "## Implementation"
   ]
  },
  {
   "cell_type": "markdown",
   "metadata": {},
   "source": [
    "### Part 0. Import necessary libraries"
   ]
  },
  {
   "cell_type": "code",
   "execution_count": 1,
   "metadata": {},
   "outputs": [],
   "source": [
    "import numpy as np\n",
    "import matplotlib.pyplot as plt"
   ]
  },
  {
   "cell_type": "markdown",
   "metadata": {},
   "source": [
    "### Part 1. Implement trapezoidal rule"
   ]
  },
  {
   "cell_type": "code",
   "execution_count": 2,
   "metadata": {},
   "outputs": [],
   "source": [
    "def trapzoidal(\n",
    "    f,\n",
    "    a,\n",
    "    b,\n",
    "    N=50\n",
    "):\n",
    "    \n",
    "    '''\n",
    "    Parameters\n",
    "    ----------\n",
    "    f : function\n",
    "        Vectorized function of a single variable\n",
    "    a , b : numbers\n",
    "        Interval of integration [a,b]\n",
    "    N : integer\n",
    "        Number of sub-intervals of [a,b]\n",
    "\n",
    "    Returns\n",
    "    -------\n",
    "    T : float\n",
    "        Approximation of the integral of f(x) from a to b using the\n",
    "        trapezoid rule with N subintervals of equal length.\n",
    "    '''\n",
    "    \n",
    "    # Compute the equivalent points\n",
    "    x = np.linspace(a, b, N+1)\n",
    "    \n",
    "    # Compute the value of f(x)\n",
    "    y = f(x)\n",
    "    \n",
    "    # Right endpoints\n",
    "    y_right = y[1:]\n",
    "    \n",
    "    # Left endpoints\n",
    "    y_left = y[:-1]\n",
    "    \n",
    "    # Compute the length of each sub-interval\n",
    "    dx = (b - a) / N\n",
    "    \n",
    "    # Compute the integal\n",
    "    T = (dx/2) * np.sum(y_right + y_left)\n",
    "    \n",
    "    return T"
   ]
  },
  {
   "cell_type": "markdown",
   "metadata": {},
   "source": [
    "---\n",
    "## Example\n",
    "\n",
    "### 1. Compute the integral\n",
    "### $$\\int_0^{\\pi/2}\\,\\sin x\\,dx$$\n",
    "\n",
    "### Note that we already know the real answer is $1$."
   ]
  },
  {
   "cell_type": "code",
   "execution_count": 3,
   "metadata": {},
   "outputs": [],
   "source": [
    "def sin(x):\n",
    "    return np.sin(x)"
   ]
  },
  {
   "cell_type": "markdown",
   "metadata": {},
   "source": [
    "### Plot the function"
   ]
  },
  {
   "cell_type": "code",
   "execution_count": 4,
   "metadata": {},
   "outputs": [
    {
     "data": {
      "image/png": "[encoded data removed]",
      "text/plain": [
       "<Figure size 1152x432 with 1 Axes>"
      ]
     },
     "metadata": {
      "needs_background": "light"
     },
     "output_type": "display_data"
    }
   ],
   "source": [
    "x_range = np.arange(0, np.pi/2, 0.01)\n",
    "fig, ax = plt.subplots(figsize=(16, 6))\n",
    "ax.plot(x_range, sin(x_range))\n",
    "ax.set_title(r'$f(x)=\\sin x$')\n",
    "ax.grid(True)\n",
    "ax.axhline(y=0)\n",
    "ax.axvline(x=0)\n",
    "plt.show()"
   ]
  },
  {
   "cell_type": "markdown",
   "metadata": {},
   "source": [
    "### Get the approximate value and error"
   ]
  },
  {
   "cell_type": "code",
   "execution_count": 5,
   "metadata": {},
   "outputs": [
    {
     "name": "stdout",
     "output_type": "stream",
     "text": [
      "The approximate value by trapzoidal rule is 0.9999997943832332\n",
      "The error is 2.056167668351705e-07\n"
     ]
    }
   ],
   "source": [
    "approximation = trapzoidal(np.sin,0,np.pi/2,1000)\n",
    "print('The approximate value by trapzoidal rule is', approximation)\n",
    "print('The error is', abs(1 - approximation))"
   ]
  },
  {
   "cell_type": "markdown",
   "metadata": {},
   "source": [
    "---\n",
    "## Error Estimate\n",
    "\n",
    "### When computing integrals numerically, it is essential to know how good our approximations are. Notice in the theorem below that the error formula is inversely proportional to $N^2$.\n",
    "### This means that the error descreases much faster with larger $N$ compared to Riemann sums."
   ]
  },
  {
   "cell_type": "markdown",
   "metadata": {},
   "source": [
    "---\n",
    "## Theorem\n",
    "\n",
    "### Let $T_N(f)$ denote the trapezoid rule\n",
    "### $$T_N(f) = \\frac{\\Delta x}{2}\\,\\sum_{i=1}^N(f(x_i) + f(x_{i-1}))$$\n",
    "### where $\\Delta x = \\frac{(b - a)}{N}$ and $x_i = a + i\\,\\Delta x$.\n",
    "\n",
    "### The <span style=\"color:red\"> _error bound_ </span> is\n",
    "### $$E_N^T(f) = \\left| \\int_a^b\\,f(x)\\,dx - T_N(f) \\right| \\leq \\frac{(b - a)^3}{12N^2}\\,K_2$$\n",
    "### where $|f''(x)| \\leq K_2$ for all $x \\in [a,\\,b]$.\n",
    "\n",
    "#### More detail for the proof of this theorem: [link](https://en.wikipedia.org/wiki/Trapezoidal_rule)"
   ]
  },
  {
   "cell_type": "markdown",
   "metadata": {},
   "source": [
    "---\n",
    "## Example\n",
    "\n",
    "## 1. Approximate $\\ln 2$\n",
    "\n",
    "### find a value $N$ which guarantees that the trapezoid rule approximation $T_N(f)$ of the integral\n",
    "### $$\\int_1^2\\,\\frac{1}{x}\\,dx = \\ln 2$$\n",
    "### satisfies $E_N^T(f) \\leq 10^{-8}$.\n",
    "\n",
    "### For $f(x) = \\frac{1}{x}$, we compute $f''(x) = \\frac{2}{x^3} \\leq 2$ for all $x \\in [1,\\,2]$ therefore the error formula implies\n",
    "### $$\\left| \\int_1^2 \\frac{1}{x}\\,dx - T_N(f) \\right| \\leq \\frac{2}{12N^2}$$\n",
    "\n",
    "### Then $E_N^T \\leq 10^{-8}$ is guaranteed if $\\frac{1}{6N^2} \\leq 10^{-8}$ which implies\n",
    "### $$\\frac{10^4}{\\sqrt{6}} \\leq N$$"
   ]
  },
  {
   "cell_type": "code",
   "execution_count": 6,
   "metadata": {},
   "outputs": [
    {
     "name": "stdout",
     "output_type": "stream",
     "text": [
      "4082.4829046386303 < N\n"
     ]
    }
   ],
   "source": [
    "## Compute the inequality\n",
    "print(10**4/np.sqrt(6),'< N')"
   ]
  },
  {
   "cell_type": "markdown",
   "metadata": {},
   "source": [
    "### So we need $4083$ subintervals to guarantee $E_N^T(f) \\leq 10^{-8}$.\n",
    "### Compute the approximation using our own implementation of the trapezoid rule:"
   ]
  },
  {
   "cell_type": "code",
   "execution_count": 7,
   "metadata": {},
   "outputs": [
    {
     "name": "stdout",
     "output_type": "stream",
     "text": [
      "The approximate value is 0.6931471843089954\n"
     ]
    }
   ],
   "source": [
    "approximation = trapzoidal(lambda x : 1/x, 1, 2, 4083)\n",
    "print('The approximate value is', approximation)"
   ]
  },
  {
   "cell_type": "markdown",
   "metadata": {},
   "source": [
    "### Let's verify that this is within $10^{-8}$"
   ]
  },
  {
   "cell_type": "code",
   "execution_count": 8,
   "metadata": {},
   "outputs": [
    {
     "name": "stdout",
     "output_type": "stream",
     "text": [
      "The error is 3.7490500703896146e-09\n",
      "Answer is True\n"
     ]
    }
   ],
   "source": [
    "error = abs(approximation - np.log(2))\n",
    "print('The error is', error)\n",
    "print('Answer is', error < 10**(-8))"
   ]
  },
  {
   "cell_type": "markdown",
   "metadata": {},
   "source": [
    "### However, a natural question arises: what is the actual smallest $N$ such that the trapezoid rule gives the estimate of $\\ln 2$ to within $10^{-8}$?"
   ]
  },
  {
   "cell_type": "code",
   "execution_count": 9,
   "metadata": {},
   "outputs": [
    {
     "name": "stdout",
     "output_type": "stream",
     "text": [
      "Accuracy achieved at N = 791\n"
     ]
    }
   ],
   "source": [
    "for n in range(1, 4083):\n",
    "    approximation = trapzoidal(lambda x : 1/x, 1, 2, n)\n",
    "    if abs(approximation - np.log(2)) < 10e-8:\n",
    "        print(\"Accuracy achieved at N =\", n)\n",
    "        break"
   ]
  },
  {
   "cell_type": "markdown",
   "metadata": {},
   "source": [
    "## End"
   ]
  }
 ],
 "metadata": {
  "kernelspec": {
   "display_name": "Python 3",
   "language": "python",
   "name": "python3"
  },
  "language_info": {
   "codemirror_mode": {
    "name": "ipython",
    "version": 3
   },
   "file_extension": ".py",
   "mimetype": "text/x-python",
   "name": "python",
   "nbconvert_exporter": "python",
   "pygments_lexer": "ipython3",
   "version": "3.7.3"
  }
 },
 "nbformat": 4,
 "nbformat_minor": 2
}
