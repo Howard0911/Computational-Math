{
 "cells": [
  {
   "cell_type": "markdown",
   "metadata": {},
   "source": [
    "# Lab 5\n",
    "\n",
    "1. 提交作業之前，建議可以先點選上方工具列的**Kernel**，再選擇**Restart & Run All**，檢查一下是否程式跑起來都沒有問題，最後記得儲存。\n",
    "2. 請先填上下方的姓名(name)及學號(stduent_id)再開始作答，例如：\n",
    "```python\n",
    "name = \"我的名字\"\n",
    "student_id= \"B06201000\"\n",
    "```\n",
    "3. 演算法的實作可以參考[lab-5](https://yuanyuyuan.github.io/itcm/lab-5.html), 有任何問題歡迎找助教詢問。\n",
    "4. **Deadline: 12/11(Wed.)**"
   ]
  },
  {
   "cell_type": "code",
   "execution_count": 1,
   "metadata": {},
   "outputs": [],
   "source": [
    "name = \"彭盛皓\"\n",
    "student_id = \"B06201008\""
   ]
  },
  {
   "cell_type": "markdown",
   "metadata": {},
   "source": [
    "---"
   ]
  },
  {
   "cell_type": "markdown",
   "metadata": {
    "deletable": false,
    "editable": false,
    "nbgrader": {
     "cell_type": "markdown",
     "checksum": "8caa51313bc7dfbde7a7a4c46f4c8754",
     "grade": false,
     "grade_id": "cell-8c0898d088432222",
     "locked": true,
     "points": 12,
     "schema_version": 3,
     "solution": false,
     "task": true
    }
   },
   "source": [
    "# Exercise 3\n",
    "---\n",
    "### Analyse the convergence properties of the Jacobi and Gauss-Seidel methods for the solution of a linear system whose matrix is\n",
    "### $$\\left[\\begin{matrix}\n",
    "    \\alpha &&0 &&1\\\\\n",
    "    0 &&\\alpha &&0\\\\\n",
    "    1 &&0 &&\\alpha\n",
    "    \\end{matrix}\\right],\n",
    "    \\quad \\quad\n",
    "    \\alpha \\in \\mathbb{R}.$$"
   ]
  },
  {
   "cell_type": "markdown",
   "metadata": {},
   "source": [
    "> Please write down your analysis in detail with LaTeX/Markdown at here. And if you need to do some numerical experiments, you can add more blocks to test your codes at below."
   ]
  },
  {
   "cell_type": "code",
   "execution_count": 2,
   "metadata": {},
   "outputs": [],
   "source": [
    "import numpy as np\n",
    "import matplotlib.pyplot as plt\n",
    "from numpy import linalg as LA"
   ]
  },
  {
   "cell_type": "markdown",
   "metadata": {},
   "source": [
    "### First, we need to construct a matrix like the problem given."
   ]
  },
  {
   "cell_type": "code",
   "execution_count": 3,
   "metadata": {},
   "outputs": [],
   "source": [
    "def construct_matrix(\n",
    "    a,\n",
    "    m\n",
    "):\n",
    "    A = np.diag(a * np.ones(m))\n",
    "    A[0,m-1] = 1\n",
    "    A[m-1,0] = 1\n",
    "    \n",
    "    return A"
   ]
  },
  {
   "cell_type": "markdown",
   "metadata": {},
   "source": [
    "Test for the function."
   ]
  },
  {
   "cell_type": "code",
   "execution_count": 30,
   "metadata": {},
   "outputs": [
    {
     "name": "stdout",
     "output_type": "stream",
     "text": [
      "[[2. 0. 1.]\n",
      " [0. 2. 0.]\n",
      " [1. 0. 2.]]\n"
     ]
    }
   ],
   "source": [
    "A = construct_matrix(2,3)\n",
    "print(A)"
   ]
  },
  {
   "cell_type": "markdown",
   "metadata": {},
   "source": [
    "### Second, construct the Jacobi method and Gauss-seidel method."
   ]
  },
  {
   "cell_type": "markdown",
   "metadata": {},
   "source": [
    "#### 1. Jacobi method"
   ]
  },
  {
   "cell_type": "code",
   "execution_count": 11,
   "metadata": {},
   "outputs": [],
   "source": [
    "def jacobi(A,b,N=100,x=None,tol=1e-15):\n",
    "    # Create an initial guess if needed                                                                                                                                                            \n",
    "    if x is None:\n",
    "        x = np.zeros(len(A[0]))\n",
    "\n",
    "    # Create a vector of the diagonal elements of A                                                                                                                                                \n",
    "    # and subtract them from A                                                                                                                                                                     \n",
    "    D = np.diag(A)\n",
    "    R = A - np.diagflat(D)\n",
    "    \n",
    "    # Iterate for N times                                                                                                                                                                          \n",
    "    count = 0\n",
    "    for i in range(N):\n",
    "        count += 1\n",
    "        x2 = (b - np.dot(R,x)) / D\n",
    "        delta = LA.norm(x - x2)\n",
    "        if delta < tol:\n",
    "            print(\"f converges within %d iterations with given tolerance.\"%count)\n",
    "            return x2\n",
    "        x = x2\n",
    "    print(\"f did not converge within %d iterations with given tolerance.\"%N)\n",
    "\n",
    "    return x"
   ]
  },
  {
   "cell_type": "code",
   "execution_count": 31,
   "metadata": {},
   "outputs": [
    {
     "name": "stdout",
     "output_type": "stream",
     "text": [
      "f converges within 53 iterations with given tolerance.\n"
     ]
    },
    {
     "data": {
      "text/plain": [
       "array([0.33333333, 2.        , 2.33333333])"
      ]
     },
     "execution_count": 31,
     "metadata": {},
     "output_type": "execute_result"
    }
   ],
   "source": [
    "jacobi(A,[3,4,5],1000,None,1e-15)"
   ]
  },
  {
   "cell_type": "markdown",
   "metadata": {},
   "source": [
    "#### 2. Gauss-seidel method"
   ]
  },
  {
   "cell_type": "code",
   "execution_count": 7,
   "metadata": {},
   "outputs": [],
   "source": [
    "def gaussSeidel(A,b,N=100,x=None,tol=1e-15):\n",
    "    # Create an initial guess if needed                                                                                                                                                            \n",
    "    if x is None:\n",
    "        x = np.zeros(len(A[0]))\n",
    "\n",
    "    # Create a vector of the diagonal elements of A                                                                                                                                                \n",
    "    # and subtract them from A                                                                                                                                                                     \n",
    "    L = np.tril(A)\n",
    "    R = A - L\n",
    "    \n",
    "    # Iterate for N times                                                                                                                                                                          \n",
    "    count = 0\n",
    "    for i in range(N):\n",
    "        count += 1\n",
    "        x2 = LA.inv(L) @ (b - np.dot(R,x))\n",
    "        delta = LA.norm(x - x2)\n",
    "        if delta < tol:\n",
    "            print(\"f converges within %d iterations with given tolerance.\"%count)\n",
    "            return x2\n",
    "        x = x2\n",
    "    print(\"f did not converge within %d iterations with given tolerance.\"%N)\n",
    "    return x"
   ]
  },
  {
   "cell_type": "code",
   "execution_count": 21,
   "metadata": {},
   "outputs": [
    {
     "name": "stdout",
     "output_type": "stream",
     "text": [
      "f converges within 19 iterations with given tolerance.\n"
     ]
    },
    {
     "data": {
      "text/plain": [
       "array([0.33333333, 2.        , 2.33333333])"
      ]
     },
     "execution_count": 21,
     "metadata": {},
     "output_type": "execute_result"
    }
   ],
   "source": [
    "gaussSeidel(A,[3,4,5],1000,None,1e-10)"
   ]
  },
  {
   "cell_type": "markdown",
   "metadata": {},
   "source": [
    "### Third, discuss the convergence of these iteration methods."
   ]
  },
  {
   "cell_type": "markdown",
   "metadata": {},
   "source": [
    "Let the iteration method be written \n",
    "$$x^{(k)}=Tx^{(k-1)}+c$$ for each $k=1,2,3,...$"
   ]
  },
  {
   "cell_type": "markdown",
   "metadata": {},
   "source": [
    "#### Lemma\n",
    "If the spectral radius satisfies $\\rho (T)<1$, then $(I-T)^{-1}$ exists, and \n",
    "$$(I-T)^{-1}=I+T+T^2+...=\\sum_{j=0}^{\\infty}T^j$$"
   ]
  },
  {
   "cell_type": "markdown",
   "metadata": {},
   "source": [
    "We have the theorem of convergence below:"
   ]
  },
  {
   "cell_type": "markdown",
   "metadata": {},
   "source": [
    "#### Theorem \n",
    "For any initial status $x^{(0)}\\in R^n$, the sequence $\\{x^{(k)}\\}_{k=0}^{\\infty}$defined by \n",
    "$$x^{(k)}=Tx^{(k-1)}+c$$ for each $k\\geq 1$,\n",
    "converges to the unique solution of $x=Tx+c$ if and only if $\\rho (T)<1$"
   ]
  },
  {
   "cell_type": "markdown",
   "metadata": {},
   "source": [
    "In our case, the matrix of the form $$\\left[\\begin{matrix}\n",
    "    \\alpha &&0 &&1\\\\\n",
    "    0 &&\\alpha &&0\\\\\n",
    "    1 &&0 &&\\alpha\n",
    "    \\end{matrix}\\right],\n",
    "    \\quad \\quad\n",
    "    \\alpha \\in \\mathbb{R}.$$\n",
    "has the special situation if $\\alpha = 1$:"
   ]
  },
  {
   "cell_type": "code",
   "execution_count": 25,
   "metadata": {},
   "outputs": [],
   "source": [
    "A = construct_matrix(1,3)"
   ]
  },
  {
   "cell_type": "code",
   "execution_count": 26,
   "metadata": {},
   "outputs": [
    {
     "name": "stdout",
     "output_type": "stream",
     "text": [
      "f did not converge within 1000 iterations with given tolerance.\n"
     ]
    },
    {
     "data": {
      "text/plain": [
       "array([-1000.,     4.,  1000.])"
      ]
     },
     "execution_count": 26,
     "metadata": {},
     "output_type": "execute_result"
    }
   ],
   "source": [
    "jacobi(A,[3,4,5],1000,None,1e-15)"
   ]
  },
  {
   "cell_type": "code",
   "execution_count": 27,
   "metadata": {},
   "outputs": [
    {
     "name": "stdout",
     "output_type": "stream",
     "text": [
      "f did not converge within 1000 iterations with given tolerance.\n"
     ]
    },
    {
     "data": {
      "text/plain": [
       "array([-1995.,     4.,  2000.])"
      ]
     },
     "execution_count": 27,
     "metadata": {},
     "output_type": "execute_result"
    }
   ],
   "source": [
    "gaussSeidel(A,[3,4,5],1000,None,1e-10)"
   ]
  },
  {
   "cell_type": "markdown",
   "metadata": {},
   "source": [
    "Since, if $\\alpha = 1$, then $(I-T)^{-1}$ is not invertible."
   ]
  },
  {
   "cell_type": "markdown",
   "metadata": {},
   "source": [
    "#### Corollary\n",
    "If $||T||<1$ for any natural norm and $c$ is a given vector, then the sequence $\\{x^{(k)}\\}_{k=0}^{\\infty}$defined by \n",
    "$$x^{(k)}=Tx^{(k-1)}+c$$ for each $k\\geq 1$,\n",
    "converges, for any $x^{(0)}\\in R^n$, to a vector of $x\\in R^n$, with $x=Tx+c$, and the following error bound hold:\\\n",
    "$(i)$ $||x-x^{(k)}||\\leq ||T||^k||x^{(0)}-x||$\\\n",
    "$(ii)$ $||x-x^{(k)}||\\leq \\frac{||T||^k}{1-||T||}||x^{(1)}-x^{(0)}||$"
   ]
  },
  {
   "cell_type": "markdown",
   "metadata": {},
   "source": [
    "By $(i)$, $||x-x^{(k)}||\\approx \\rho(T)^k||x^{(0)}-x||$"
   ]
  },
  {
   "cell_type": "markdown",
   "metadata": {},
   "source": [
    "### Finally, we have the result."
   ]
  },
  {
   "cell_type": "markdown",
   "metadata": {},
   "source": [
    "If $A$ is strictly diagonally dominant, then for any choice of $X^{(0)}$, both the Jacobi and Gauss-Seidel methods give sequences $\\{x^{(k)}\\}_{k=0}^{\\infty}$ that converges to the unique solution of $Ax=b$."
   ]
  },
  {
   "cell_type": "code",
   "execution_count": null,
   "metadata": {},
   "outputs": [],
   "source": []
  }
 ],
 "metadata": {
  "kernelspec": {
   "display_name": "Python 3",
   "language": "python",
   "name": "python3"
  },
  "language_info": {
   "codemirror_mode": {
    "name": "ipython",
    "version": 3
   },
   "file_extension": ".py",
   "mimetype": "text/x-python",
   "name": "python",
   "nbconvert_exporter": "python",
   "pygments_lexer": "ipython3",
   "version": "3.7.3"
  }
 },
 "nbformat": 4,
 "nbformat_minor": 2
}
