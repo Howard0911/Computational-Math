{
 "cells": [
  {
   "cell_type": "markdown",
   "metadata": {
    "slideshow": {
     "slide_type": "slide"
    }
   },
   "source": [
    "# Numpy Tutorial"
   ]
  },
  {
   "cell_type": "markdown",
   "metadata": {
    "slideshow": {
     "slide_type": "fragment"
    }
   },
   "source": [
    "In this notebook, we will learn how to use the basic numpy package."
   ]
  },
  {
   "cell_type": "markdown",
   "metadata": {
    "slideshow": {
     "slide_type": "slide"
    }
   },
   "source": [
    "## What is \"*Numpy*\"?\n",
    "\n",
    "**Numpy** is the most important python package, we always use numpy to do data or image processing. Numpy is based on **C** and **Fortran**, that's why we can quickly operate multi-dimensional arrays. Also, a large amount of useful python packages (e.g. Scipy, Pandas, Scikit-learn) is depended on **Numpy**. Therefore, learning how to use **Numpy** is basic and beneficial when using python."
   ]
  },
  {
   "cell_type": "markdown",
   "metadata": {
    "slideshow": {
     "slide_type": "slide"
    }
   },
   "source": [
    "## Import Numpy package\n",
    "\n",
    "First, we need to import the package before using numpy. (Do the same step when we use another package. &ensp; \" _import ***_ \" )"
   ]
  },
  {
   "cell_type": "code",
   "execution_count": null,
   "metadata": {
    "slideshow": {
     "slide_type": "fragment"
    }
   },
   "outputs": [],
   "source": [
    "import numpy as np  # For convenience, we will call Numpy as np"
   ]
  },
  {
   "cell_type": "markdown",
   "metadata": {
    "slideshow": {
     "slide_type": "slide"
    }
   },
   "source": [
    "## Create ndarray by using list and tuple"
   ]
  },
  {
   "cell_type": "code",
   "execution_count": null,
   "metadata": {
    "slideshow": {
     "slide_type": "fragment"
    }
   },
   "outputs": [],
   "source": [
    "# 1D array\n",
    "# Transfer list to array\n",
    "lst = [1, 2, 3, 4, 5]\n",
    "print(type(lst))\n",
    "arr1 = np.array(lst)\n",
    "print(\"arr1 => {}\".format(arr1))"
   ]
  },
  {
   "cell_type": "code",
   "execution_count": null,
   "metadata": {
    "slideshow": {
     "slide_type": "fragment"
    }
   },
   "outputs": [],
   "source": [
    "# 1D array\n",
    "# Transfer tuple to array\n",
    "tup = (1, 2, 3, 4, 5)\n",
    "print(type(tup))\n",
    "arr_tuple = np.array(tup)\n",
    "print(\"arr_tuple => {}\".format(arr_tuple))"
   ]
  },
  {
   "cell_type": "code",
   "execution_count": null,
   "metadata": {
    "slideshow": {
     "slide_type": "subslide"
    }
   },
   "outputs": [],
   "source": [
    "# 2D array\n",
    "# Using dtype to assign the array type\n",
    "arr2 = np.array([[1, 2, 3], [4, 5, 6]])\n",
    "print(\"arr2 => {}\".format(arr2))"
   ]
  },
  {
   "cell_type": "markdown",
   "metadata": {
    "slideshow": {
     "slide_type": "slide"
    }
   },
   "source": [
    "# Data type of numpy"
   ]
  },
  {
   "cell_type": "markdown",
   "metadata": {
    "slideshow": {
     "slide_type": "fragment"
    }
   },
   "source": [
    "1.  _ndarray.dtype_ : The type of the array\n",
    "2. _ndarray.ndim_ : The dimension of the array\n",
    "3. _ndarry.shape_ : The size of each dimesion in array, this return type will be tuple\n",
    "4. _ndarry.size_ : The number of all elements in array\n",
    "5. _ndarry.dtype_ : The type of the array\n",
    "6. _ndarray.itemsize_ : The size (bytes) of each element"
   ]
  },
  {
   "cell_type": "code",
   "execution_count": null,
   "metadata": {
    "slideshow": {
     "slide_type": "subslide"
    }
   },
   "outputs": [],
   "source": [
    "arr3 = np.array([[1.9, 1.5, 1.3], [2.9, 2.5, 2.3]])\n",
    "print(\"arr3 => {}\".format(arr3))\n",
    "print()\n",
    "# ndarray.ndim\n",
    "print(\"ndim: {}\".format(arr3.ndim))\n",
    "# ndarry.shape\n",
    "print(\"shape: {}\".format(arr3.shape))\n",
    "# ndarry.size\n",
    "print(\"size: {}\".format(arr3.size))\n",
    "# ndarry.dtype\n",
    "print(\"dtype: {}\".format(arr3.dtype))\n",
    "# ndarray.itemsize\n",
    "print(\"itemsize: {}\".format(arr3.itemsize))  # float64: 64/8 Bytes"
   ]
  },
  {
   "cell_type": "markdown",
   "metadata": {
    "slideshow": {
     "slide_type": "slide"
    }
   },
   "source": [
    "## Data type in the array"
   ]
  },
  {
   "cell_type": "markdown",
   "metadata": {
    "slideshow": {
     "slide_type": "slide"
    }
   },
   "source": [
    "### 1. numpy integer"
   ]
  },
  {
   "cell_type": "code",
   "execution_count": null,
   "metadata": {
    "slideshow": {
     "slide_type": "fragment"
    }
   },
   "outputs": [],
   "source": [
    "value = 12.334\n",
    "print(\"value = \", value)\n",
    "print(\"np.int(value) = \", np.int(value))\n",
    "print(\"np.int8(value) = \", np.int8(value))\n",
    "print(\"np.int16(value) = \", np.int16(value))\n",
    "print(\"np.int32(value) = \", np.int32(value))\n",
    "print(\"np.int64(value) = \", np.int64(value))"
   ]
  },
  {
   "cell_type": "markdown",
   "metadata": {
    "slideshow": {
     "slide_type": "slide"
    }
   },
   "source": [
    "### 2. numpy float"
   ]
  },
  {
   "cell_type": "code",
   "execution_count": null,
   "metadata": {
    "slideshow": {
     "slide_type": "fragment"
    }
   },
   "outputs": [],
   "source": [
    "value = 12\n",
    "print(\"value = \", value)\n",
    "print(\"np.float(value) = \", np.float(value))\n",
    "print(\"np.float16(value) = \", np.float16(value))\n",
    "print(\"np.float32(value) = \", np.float32(value))\n",
    "print(\"np.float64(value) = \", np.float64(value))\n",
    "print(\"np.float128(value) = \", np.float128(value))"
   ]
  },
  {
   "cell_type": "markdown",
   "metadata": {
    "slideshow": {
     "slide_type": "slide"
    }
   },
   "source": [
    "### 3. complex number in numpy"
   ]
  },
  {
   "cell_type": "code",
   "execution_count": null,
   "metadata": {
    "slideshow": {
     "slide_type": "fragment"
    }
   },
   "outputs": [],
   "source": [
    "complex_value = 1+2j  # In math is 1 + 2i\n",
    "print(\"complex_value = \", complex_value)\n",
    "print(\"1 in complex number is\", np.complex(1))\n",
    "print(\"The real value of complex_value is \", complex_value.real)\n",
    "print(\"The Imaginary value of complex_value is \", complex_value.imag)"
   ]
  },
  {
   "cell_type": "markdown",
   "metadata": {
    "slideshow": {
     "slide_type": "slide"
    }
   },
   "source": [
    "### 4. numpy boolean"
   ]
  },
  {
   "cell_type": "code",
   "execution_count": null,
   "metadata": {
    "slideshow": {
     "slide_type": "fragment"
    }
   },
   "outputs": [],
   "source": [
    "print(\"1 in boolean value is \", np.bool(1))\n",
    "print(\"2 in boolean value is \", np.bool(2))\n",
    "print(\"0 in boolean value is \", np.bool(0))\n",
    "print(\"-1 in boolean value is \", np.bool(-1))\n",
    "print(\"-2 in boolean value is \", np.bool(-2))\n",
    "print(\"0.1 in boolean value is \", np.bool(0.1))"
   ]
  },
  {
   "cell_type": "code",
   "execution_count": null,
   "metadata": {
    "slideshow": {
     "slide_type": "fragment"
    }
   },
   "outputs": [],
   "source": [
    "print(\"The value of 'True' is \", np.float(True))\n",
    "print(\"The value of 'False' is \", np.float(False))"
   ]
  },
  {
   "cell_type": "markdown",
   "metadata": {
    "slideshow": {
     "slide_type": "slide"
    }
   },
   "source": [
    "### 5. Assign data type \" _dtype_ \" in array"
   ]
  },
  {
   "cell_type": "code",
   "execution_count": null,
   "metadata": {
    "slideshow": {
     "slide_type": "subslide"
    }
   },
   "outputs": [],
   "source": [
    "arr4 = np.array([[1.9, 1.5, 1.3], [2.9, 2.5, 2.3]], dtype=np.int64)\n",
    "print(\"arr4 => {}\".format(arr4))\n",
    "print()\n",
    "# ndarray.ndim\n",
    "print(\"ndim: {}\".format(arr4.ndim))\n",
    "# ndarry.shape\n",
    "print(\"shape: {}\".format(arr4.shape))\n",
    "# ndarry.size\n",
    "print(\"size: {}\".format(arr4.size))\n",
    "# ndarry.dtype\n",
    "print(\"dtype: {}\".format(arr4.dtype))\n",
    "# ndarray.itemsize\n",
    "print(\"itemsize: {}\".format(arr4.itemsize))  # float64: 64/8 Bytes"
   ]
  },
  {
   "cell_type": "markdown",
   "metadata": {
    "slideshow": {
     "slide_type": "slide"
    }
   },
   "source": [
    "## Create ndarray with commonly used functions. &ensp; \" _np.arange_ \", \" _np.zeros_ \", ..."
   ]
  },
  {
   "cell_type": "code",
   "execution_count": null,
   "metadata": {
    "slideshow": {
     "slide_type": "fragment"
    }
   },
   "outputs": [],
   "source": [
    "row = int(input('Please input the number of rows (integer): '))\n",
    "col = int(input('Please input the number of columns (integer): '))\n",
    "shape = (row, col)\n",
    "print(\"shape: \", shape)"
   ]
  },
  {
   "cell_type": "markdown",
   "metadata": {
    "slideshow": {
     "slide_type": "slide"
    }
   },
   "source": [
    "### 1. Zeros: _np.zeros(shape)_"
   ]
  },
  {
   "cell_type": "code",
   "execution_count": null,
   "metadata": {
    "slideshow": {
     "slide_type": "fragment"
    }
   },
   "outputs": [],
   "source": [
    "zeros = np.zeros(shape)\n",
    "print(\"zeros => {}\".format(zeros))"
   ]
  },
  {
   "cell_type": "markdown",
   "metadata": {
    "slideshow": {
     "slide_type": "slide"
    }
   },
   "source": [
    "### 2. Ones: _np.ones(shape)_"
   ]
  },
  {
   "cell_type": "code",
   "execution_count": null,
   "metadata": {
    "slideshow": {
     "slide_type": "fragment"
    }
   },
   "outputs": [],
   "source": [
    "ones = np.ones(shape)\n",
    "print(\"ones => {}\".format(ones))"
   ]
  },
  {
   "cell_type": "markdown",
   "metadata": {
    "slideshow": {
     "slide_type": "slide"
    }
   },
   "source": [
    "### 3. Full: _np.full(shape, value)_"
   ]
  },
  {
   "cell_type": "code",
   "execution_count": null,
   "metadata": {
    "slideshow": {
     "slide_type": "fragment"
    }
   },
   "outputs": [],
   "source": [
    "#### value = float(input('Please input a number that you want to fill in the array: '))\n",
    "print()\n",
    "arr = np.full(shape, value)\n",
    "print(\"arr => {}\".format(arr))\n",
    "print()\n",
    "# You can also use value*np.ones\n",
    "arr = value*np.ones(shape)\n",
    "print(\"arr => {}\".format(arr))"
   ]
  },
  {
   "cell_type": "markdown",
   "metadata": {
    "slideshow": {
     "slide_type": "slide"
    }
   },
   "source": [
    "### 4. Empty: _np.empty(shape)_"
   ]
  },
  {
   "cell_type": "code",
   "execution_count": null,
   "metadata": {
    "slideshow": {
     "slide_type": "fragment"
    }
   },
   "outputs": [],
   "source": [
    "empty = np.empty(shape)\n",
    "print(\"empty => {}\".format(empty))"
   ]
  },
  {
   "cell_type": "markdown",
   "metadata": {
    "slideshow": {
     "slide_type": "slide"
    }
   },
   "source": [
    "### 5. Radom: _np.random.random(shape)_"
   ]
  },
  {
   "cell_type": "code",
   "execution_count": null,
   "metadata": {
    "slideshow": {
     "slide_type": "fragment"
    }
   },
   "outputs": [],
   "source": [
    "rad = np.random.random(shape)\n",
    "print(\"rad => {}\".format(rad))"
   ]
  },
  {
   "cell_type": "markdown",
   "metadata": {
    "slideshow": {
     "slide_type": "slide"
    }
   },
   "source": [
    "### 6. Arange: _np.arange(start, end, step)_"
   ]
  },
  {
   "cell_type": "code",
   "execution_count": null,
   "metadata": {
    "slideshow": {
     "slide_type": "fragment"
    }
   },
   "outputs": [],
   "source": [
    "arr = np.arange(0, 5, 0.5)\n",
    "print(\"arr => {}\".format(arr))"
   ]
  },
  {
   "cell_type": "markdown",
   "metadata": {
    "slideshow": {
     "slide_type": "slide"
    }
   },
   "source": [
    "### 7. Linspace: _np.linspace(start, end, number_of_elements)_"
   ]
  },
  {
   "cell_type": "code",
   "execution_count": null,
   "metadata": {
    "slideshow": {
     "slide_type": "fragment"
    }
   },
   "outputs": [],
   "source": [
    "arr = np.linspace(0, 5, 11)\n",
    "print(\"arr => {}\".format(arr))"
   ]
  },
  {
   "cell_type": "markdown",
   "metadata": {
    "slideshow": {
     "slide_type": "slide"
    }
   },
   "source": [
    "## Slices and indexes of ndarray arrays"
   ]
  },
  {
   "cell_type": "code",
   "execution_count": null,
   "metadata": {
    "slideshow": {
     "slide_type": "fragment"
    }
   },
   "outputs": [],
   "source": [
    "arr = np.linspace(0, 5, 11)\n",
    "print(\"arr => {}\".format(arr))"
   ]
  },
  {
   "cell_type": "code",
   "execution_count": null,
   "metadata": {
    "slideshow": {
     "slide_type": "subslide"
    }
   },
   "outputs": [],
   "source": [
    "# arr[index]\n",
    "print(\"arr[2] => {}\".format(arr[2]))\n",
    "print(\"arr[-1] => {}\".format(arr[-1]))\n",
    "print(\"arr[-2] => {}\".format(arr[-2]))\n",
    "print()\n",
    "\n",
    "# arr[start:end]\n",
    "print(\"arr[1:6] => {}\".format(arr[1:6]))\n",
    "print(\"arr[:] => {}\".format(arr[:]))\n",
    "print(\"arr[:-1] => {}\".format(arr[:-1]))\n",
    "print()\n",
    "\n",
    "# arr[start:end:step]\n",
    "print(\"arr[1:6:2] => {}\".format(arr[1:6:2]))"
   ]
  },
  {
   "cell_type": "markdown",
   "metadata": {
    "slideshow": {
     "slide_type": "slide"
    }
   },
   "source": [
    "## Arrays shape"
   ]
  },
  {
   "cell_type": "code",
   "execution_count": null,
   "metadata": {
    "slideshow": {
     "slide_type": "fragment"
    }
   },
   "outputs": [],
   "source": [
    "size = int(input('Please input the size of the array (a integer): '))\n",
    "print()\n",
    "\n",
    "arr = np.arange(size)\n",
    "print(\"arr => {}\".format(arr))"
   ]
  },
  {
   "cell_type": "markdown",
   "metadata": {
    "slideshow": {
     "slide_type": "slide"
    }
   },
   "source": [
    "### 1. _reshape(new_shape)_"
   ]
  },
  {
   "cell_type": "code",
   "execution_count": null,
   "metadata": {
    "slideshow": {
     "slide_type": "fragment"
    }
   },
   "outputs": [],
   "source": [
    "row = int(input('Please input the number of rows (integer) that you want to reshape: '))\n",
    "col = int(input('Please input the number of columns (integer) that you want to reshape: '))\n",
    "new_shape = (row, col)\n",
    "print(\"new shape: \", new_shape)\n",
    "print()\n",
    "\n",
    "print(\"arr.reshape() => {}\".format(arr.reshape(new_shape)))\n",
    "print()\n",
    "print(\"After doing reshape function => {}\".format(arr))"
   ]
  },
  {
   "cell_type": "markdown",
   "metadata": {
    "slideshow": {
     "slide_type": "slide"
    }
   },
   "source": [
    "### 2. _resize(new_shape)_ : original one will be replaced"
   ]
  },
  {
   "cell_type": "code",
   "execution_count": null,
   "metadata": {
    "slideshow": {
     "slide_type": "fragment"
    }
   },
   "outputs": [],
   "source": [
    "row = int(input('Please input the number of rows (integer) that you want to resize: '))\n",
    "col = int(input('Please input the number of columns (integer) that you want to resize: '))\n",
    "new_shape = (row, col)\n",
    "print(\"new shape: \", new_shape)\n",
    "print()\n",
    "\n",
    "arr.resize(new_shape)\n",
    "print(\"After doing resize function => {}\".format(arr))"
   ]
  },
  {
   "cell_type": "markdown",
   "metadata": {
    "slideshow": {
     "slide_type": "slide"
    }
   },
   "source": [
    "### 3. _ravel()_"
   ]
  },
  {
   "cell_type": "code",
   "execution_count": null,
   "metadata": {
    "slideshow": {
     "slide_type": "fragment"
    }
   },
   "outputs": [],
   "source": [
    "print(\"arr.ravel() => {}\".format(arr.ravel()))\n",
    "print()\n",
    "print(\"After doing ravel function => {}\".format(arr))"
   ]
  },
  {
   "cell_type": "markdown",
   "metadata": {
    "slideshow": {
     "slide_type": "slide"
    }
   },
   "source": [
    "### 4. _flatten()_ :"
   ]
  },
  {
   "cell_type": "code",
   "execution_count": null,
   "metadata": {
    "slideshow": {
     "slide_type": "fragment"
    }
   },
   "outputs": [],
   "source": [
    "print(\"arr.flatten() => {}\".format(arr.flatten()))\n",
    "print()\n",
    "print(\"After doing flatten function => {}\".format(arr))"
   ]
  },
  {
   "cell_type": "markdown",
   "metadata": {
    "slideshow": {
     "slide_type": "slide"
    }
   },
   "source": [
    "### 5. Directly change its shape"
   ]
  },
  {
   "cell_type": "code",
   "execution_count": null,
   "metadata": {
    "slideshow": {
     "slide_type": "fragment"
    }
   },
   "outputs": [],
   "source": [
    "arr = arr.flatten()\n",
    "print(\"arr => {}\".format(arr))\n",
    "print()\n",
    "arr.shape = new_shape\n",
    "print(\"arr => {}\".format(arr))"
   ]
  },
  {
   "cell_type": "markdown",
   "metadata": {
    "slideshow": {
     "slide_type": "slide"
    }
   },
   "source": [
    "### 6. _transpose()_"
   ]
  },
  {
   "cell_type": "code",
   "execution_count": null,
   "metadata": {
    "slideshow": {
     "slide_type": "fragment"
    }
   },
   "outputs": [],
   "source": [
    "print(\"arr.transpose() => {}\".format(arr.transpose()))\n",
    "print()\n",
    "# Also, you can do by this way\n",
    "print(\"arr.T => {}\".format(arr.T))"
   ]
  },
  {
   "cell_type": "markdown",
   "metadata": {
    "slideshow": {
     "slide_type": "slide"
    }
   },
   "source": [
    "## Arrays merge"
   ]
  },
  {
   "cell_type": "code",
   "execution_count": null,
   "metadata": {
    "slideshow": {
     "slide_type": "fragment"
    }
   },
   "outputs": [],
   "source": [
    "arr1 = np.ones(3)\n",
    "print(\"arr1 => {}\".format(arr1))\n",
    "print()\n",
    "arr2 = np.zeros(3)\n",
    "print(\"arr2 => {}\".format(arr2))"
   ]
  },
  {
   "cell_type": "markdown",
   "metadata": {
    "slideshow": {
     "slide_type": "slide"
    }
   },
   "source": [
    "### 1. _np.vstack()_"
   ]
  },
  {
   "cell_type": "code",
   "execution_count": null,
   "metadata": {
    "slideshow": {
     "slide_type": "fragment"
    }
   },
   "outputs": [],
   "source": [
    "arr3 = np.vstack((arr1, arr2))  # vertical stack\n",
    "print(\"arr3 => {}\".format(arr3))\n",
    "print()\n",
    "print(\"The shape of arr3: \", arr3.shape)"
   ]
  },
  {
   "cell_type": "markdown",
   "metadata": {
    "slideshow": {
     "slide_type": "slide"
    }
   },
   "source": [
    "### 2. _np.hstack()_"
   ]
  },
  {
   "cell_type": "code",
   "execution_count": null,
   "metadata": {
    "slideshow": {
     "slide_type": "fragment"
    }
   },
   "outputs": [],
   "source": [
    "arr4 = np.hstack((arr1, arr2))  # horizontal stack\n",
    "print(\"arr4 => {}\".format(arr4))\n",
    "print()\n",
    "print(\"The shape of arr4: \", arr4.shape)"
   ]
  },
  {
   "cell_type": "markdown",
   "metadata": {
    "slideshow": {
     "slide_type": "slide"
    }
   },
   "source": [
    "### 3. _np.concatenate()_"
   ]
  },
  {
   "cell_type": "code",
   "execution_count": null,
   "metadata": {
    "slideshow": {
     "slide_type": "subslide"
    }
   },
   "outputs": [],
   "source": [
    "arr5 = np.concatenate((arr1, arr2, arr2, arr1), axis=0)  # horizontal concatenate\n",
    "print(\"arr5 => {}\".format(arr5))\n",
    "print()\n",
    "\n",
    "print(\"shape of arr1 and arr2: \", arr1.shape, \" and \", arr2.shape)\n",
    "arr1, arr2= np.ones((3,1)), np.zeros((3,1))\n",
    "print(\"shape of arr1 and arr2: \", arr1.shape, \" and \", arr2.shape)\n",
    "print()\n",
    "\n",
    "arr6 = np.concatenate((arr1, arr2, arr2, arr1), axis=1)  # vertical concatenate\n",
    "print(\"arr6 => {}\".format(arr6))"
   ]
  },
  {
   "cell_type": "markdown",
   "metadata": {
    "slideshow": {
     "slide_type": "slide"
    }
   },
   "source": [
    "## Split the array"
   ]
  },
  {
   "cell_type": "code",
   "execution_count": null,
   "metadata": {
    "slideshow": {
     "slide_type": "fragment"
    }
   },
   "outputs": [],
   "source": [
    "arr = np.arange(12).reshape((3, 4))\n",
    "print(\"arr => {}\".format(arr))"
   ]
  },
  {
   "cell_type": "code",
   "execution_count": null,
   "metadata": {
    "slideshow": {
     "slide_type": "fragment"
    }
   },
   "outputs": [],
   "source": [
    "# axis=1 is to split the array in vertical direction\n",
    "print(np.split(arr, 2, axis=1))\n",
    "print()\n",
    "# axis=0 is to split the array in horizontal direction\n",
    "print(np.split(arr, 3, axis=0))"
   ]
  },
  {
   "cell_type": "markdown",
   "metadata": {
    "slideshow": {
     "slide_type": "slide"
    }
   },
   "source": [
    "## Copy array: _copy()_"
   ]
  },
  {
   "cell_type": "code",
   "execution_count": null,
   "metadata": {
    "slideshow": {
     "slide_type": "subslide"
    }
   },
   "outputs": [],
   "source": [
    "arr1 = np.arange(5)\n",
    "print(\"arr1 => {}\".format(arr1))\n",
    "print()\n",
    "\n",
    "arr2 = arr1\n",
    "arr3 = arr1.copy()\n",
    "print(\"arr2 => {}\".format(arr2))\n",
    "print(\"arr3 => {}\".format(arr3))\n",
    "print()\n",
    "\n",
    "arr1[2] = -1\n",
    "print(\"arr2 => {}\".format(arr2))\n",
    "print(\"arr3 => {}\".format(arr3))"
   ]
  },
  {
   "cell_type": "markdown",
   "metadata": {
    "slideshow": {
     "slide_type": "slide"
    }
   },
   "source": [
    "## Basic operation"
   ]
  },
  {
   "cell_type": "code",
   "execution_count": null,
   "metadata": {
    "slideshow": {
     "slide_type": "fragment"
    }
   },
   "outputs": [],
   "source": [
    "arr1 = np.array([10,20,30,40])\n",
    "print(\"arr1 => \", arr1)\n",
    "arr2 = np.arange(4)\n",
    "print(\"arr2 => \", arr2)"
   ]
  },
  {
   "cell_type": "markdown",
   "metadata": {
    "slideshow": {
     "slide_type": "slide"
    }
   },
   "source": [
    "### 1. minus"
   ]
  },
  {
   "cell_type": "code",
   "execution_count": null,
   "metadata": {
    "slideshow": {
     "slide_type": "fragment"
    }
   },
   "outputs": [],
   "source": [
    "arr3 = arr1 - arr2\n",
    "print(\"arr3 => \", arr3)"
   ]
  },
  {
   "cell_type": "markdown",
   "metadata": {
    "slideshow": {
     "slide_type": "slide"
    }
   },
   "source": [
    "### 2. add"
   ]
  },
  {
   "cell_type": "code",
   "execution_count": null,
   "metadata": {
    "slideshow": {
     "slide_type": "fragment"
    }
   },
   "outputs": [],
   "source": [
    "arr3 = arr1 + arr2\n",
    "print(\"arr3 => \", arr3)"
   ]
  },
  {
   "cell_type": "markdown",
   "metadata": {
    "slideshow": {
     "slide_type": "slide"
    }
   },
   "source": [
    "### 3. array times array"
   ]
  },
  {
   "cell_type": "code",
   "execution_count": null,
   "metadata": {
    "slideshow": {
     "slide_type": "fragment"
    }
   },
   "outputs": [],
   "source": [
    "arr3 = arr1*arr2\n",
    "print(\"arr3 => \", arr3)"
   ]
  },
  {
   "cell_type": "markdown",
   "metadata": {
    "slideshow": {
     "slide_type": "slide"
    }
   },
   "source": [
    "### 4. power"
   ]
  },
  {
   "cell_type": "code",
   "execution_count": null,
   "metadata": {
    "slideshow": {
     "slide_type": "fragment"
    }
   },
   "outputs": [],
   "source": [
    "arr3 = arr1**2\n",
    "print(\"arr3 => \", arr3)"
   ]
  },
  {
   "cell_type": "markdown",
   "metadata": {
    "slideshow": {
     "slide_type": "slide"
    }
   },
   "source": [
    "### 5. constant times array"
   ]
  },
  {
   "cell_type": "code",
   "execution_count": null,
   "metadata": {
    "slideshow": {
     "slide_type": "fragment"
    }
   },
   "outputs": [],
   "source": [
    "# np.sin()\n",
    "arr3 = 10*np.sin(arr2)\n",
    "print(\"arr3 => \", arr3)\n",
    "print()\n",
    "\n",
    "# np.cos()\n",
    "arr3 = 10*np.cos(arr2)\n",
    "print(\"arr3 => \", arr3)\n",
    "print()\n",
    "\n",
    "# np.tan()\n",
    "arr3 = 10*np.tan(arr2)\n",
    "print(\"arr3 => \", arr3)"
   ]
  },
  {
   "cell_type": "markdown",
   "metadata": {
    "slideshow": {
     "slide_type": "slide"
    }
   },
   "source": [
    "### 6. retrun boolean array"
   ]
  },
  {
   "cell_type": "code",
   "execution_count": null,
   "metadata": {
    "slideshow": {
     "slide_type": "fragment"
    }
   },
   "outputs": [],
   "source": [
    "print(arr2<3)"
   ]
  },
  {
   "cell_type": "markdown",
   "metadata": {
    "slideshow": {
     "slide_type": "slide"
    }
   },
   "source": [
    "### 7. dot"
   ]
  },
  {
   "cell_type": "code",
   "execution_count": null,
   "metadata": {
    "slideshow": {
     "slide_type": "fragment"
    }
   },
   "outputs": [],
   "source": [
    "arr1 = np.array([[1,1],[0,1]])\n",
    "arr2 = np.arange(4).reshape((2,2))\n",
    "print(\"arr1 => \", arr1)\n",
    "print(\"arr2 => \", arr2)"
   ]
  },
  {
   "cell_type": "code",
   "execution_count": null,
   "metadata": {
    "slideshow": {
     "slide_type": "subslide"
    }
   },
   "outputs": [],
   "source": [
    "arr3 = np.dot(arr1,arr2)\n",
    "print(\"arr3 => \", arr3)\n",
    "print()\n",
    "\n",
    "arr3 = arr1.dot(arr2)\n",
    "print(\"arr3 => \", arr3)"
   ]
  },
  {
   "cell_type": "markdown",
   "metadata": {
    "slideshow": {
     "slide_type": "slide"
    }
   },
   "source": [
    "### 8. random"
   ]
  },
  {
   "cell_type": "code",
   "execution_count": null,
   "metadata": {
    "slideshow": {
     "slide_type": "fragment"
    }
   },
   "outputs": [],
   "source": [
    "arr = np.random.random((2,4))\n",
    "print(\"arr => \", arr)"
   ]
  },
  {
   "cell_type": "markdown",
   "metadata": {
    "slideshow": {
     "slide_type": "slide"
    }
   },
   "source": [
    "### 9. other basic operations"
   ]
  },
  {
   "cell_type": "code",
   "execution_count": null,
   "metadata": {
    "slideshow": {
     "slide_type": "slide"
    }
   },
   "outputs": [],
   "source": [
    "print(\"default sum: \", np.sum(arr))\n",
    "print(\"sum in axis=0: \", np.sum(arr, axis=0))\n",
    "print(\"sum in axis=1: \", np.sum(arr, axis=1))"
   ]
  },
  {
   "cell_type": "code",
   "execution_count": null,
   "metadata": {
    "slideshow": {
     "slide_type": "slide"
    }
   },
   "outputs": [],
   "source": [
    "print(\"default minimum: \", np.min(arr))\n",
    "print(\"minimum in axis=0: \", np.min(arr, axis=0))\n",
    "print(\"minimum in axis=1: \", np.min(arr, axis=1))"
   ]
  },
  {
   "cell_type": "code",
   "execution_count": null,
   "metadata": {
    "slideshow": {
     "slide_type": "slide"
    }
   },
   "outputs": [],
   "source": [
    "print(\"defalut maximum\", np.max(arr))\n",
    "print(\"maximum in axis=0: \", np.max(arr, axis=0))\n",
    "print(\"maximum in axis=1: \", np.max(arr, axis=1))"
   ]
  },
  {
   "cell_type": "code",
   "execution_count": null,
   "metadata": {
    "slideshow": {
     "slide_type": "slide"
    }
   },
   "outputs": [],
   "source": [
    "arr = np.arange(2,14).reshape((3,4)) \n",
    "print(\"arr => \", arr)"
   ]
  },
  {
   "cell_type": "code",
   "execution_count": null,
   "metadata": {
    "slideshow": {
     "slide_type": "slide"
    }
   },
   "outputs": [],
   "source": [
    "print(\"argmin = \", np.argmin(arr))\n",
    "print(\"argmax = \", np.argmax(arr))"
   ]
  },
  {
   "cell_type": "code",
   "execution_count": null,
   "metadata": {
    "slideshow": {
     "slide_type": "slide"
    }
   },
   "outputs": [],
   "source": [
    "print(\"mean = \", np.mean(arr))\n",
    "print(\"mean = \", arr.mean())"
   ]
  },
  {
   "cell_type": "code",
   "execution_count": null,
   "metadata": {
    "scrolled": true,
    "slideshow": {
     "slide_type": "slide"
    }
   },
   "outputs": [],
   "source": [
    "print(\"average = \", np.average(arr))\n",
    "print(\"median = \", np.median(arr))\n",
    "print(\"cumsum = \", np.cumsum(arr))\n",
    "print(\"diff = \", np.diff(arr))"
   ]
  },
  {
   "cell_type": "markdown",
   "metadata": {
    "slideshow": {
     "slide_type": "slide"
    }
   },
   "source": [
    "## End"
   ]
  }
 ],
 "metadata": {
  "kernelspec": {
   "display_name": "Python 3",
   "language": "python",
   "name": "python3"
  },
  "language_info": {
   "codemirror_mode": {
    "name": "ipython",
    "version": 3
   },
   "file_extension": ".py",
   "mimetype": "text/x-python",
   "name": "python",
   "nbconvert_exporter": "python",
   "pygments_lexer": "ipython3",
   "version": "3.7.3"
  },
  "rise": {
   "autolaunch": true,
   "enable_chalkboard": true
  }
 },
 "nbformat": 4,
 "nbformat_minor": 2
}
