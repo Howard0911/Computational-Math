{
 "cells": [
  {
   "cell_type": "markdown",
   "metadata": {
    "slideshow": {
     "slide_type": "slide"
    }
   },
   "source": [
    "# Python Tutorial\n",
    "\n",
    "In this notebook, we will learn how to do basic programming with python."
   ]
  },
  {
   "cell_type": "markdown",
   "metadata": {
    "slideshow": {
     "slide_type": "slide"
    }
   },
   "source": [
    "## The first one is one of the most commonly used function, _print_.  Also, you may need to be familiar with the basic formatation of string used in python."
   ]
  },
  {
   "cell_type": "code",
   "execution_count": null,
   "metadata": {
    "slideshow": {
     "slide_type": "subslide"
    }
   },
   "outputs": [],
   "source": [
    "print('Hello Python') # This is a print function!"
   ]
  },
  {
   "cell_type": "code",
   "execution_count": null,
   "metadata": {
    "slideshow": {
     "slide_type": "fragment"
    }
   },
   "outputs": [],
   "source": [
    "print('Hello %s' % 'Python')"
   ]
  },
  {
   "cell_type": "code",
   "execution_count": null,
   "metadata": {
    "slideshow": {
     "slide_type": "fragment"
    }
   },
   "outputs": [],
   "source": [
    "print('%d + %d = %d' % (1, 1, 1+1))"
   ]
  },
  {
   "cell_type": "code",
   "execution_count": null,
   "metadata": {
    "slideshow": {
     "slide_type": "fragment"
    }
   },
   "outputs": [],
   "source": [
    "print('{} + {} = {}'.format(1, 1, 1+1))"
   ]
  },
  {
   "cell_type": "code",
   "execution_count": null,
   "metadata": {
    "slideshow": {
     "slide_type": "fragment"
    }
   },
   "outputs": [],
   "source": [
    "import math # import a library\n",
    "print('The mathematical constant π is about %.5f' % math.pi)"
   ]
  },
  {
   "cell_type": "markdown",
   "metadata": {
    "slideshow": {
     "slide_type": "slide"
    }
   },
   "source": [
    "## Arithmatic Operations"
   ]
  },
  {
   "cell_type": "code",
   "execution_count": null,
   "metadata": {
    "slideshow": {
     "slide_type": "subslide"
    }
   },
   "outputs": [],
   "source": [
    "'''\n",
    "This is simple demo of basic arithmatic operations in Python.\n",
    "You need to input two numbers into the program, and then you\n",
    "will see the results immediately.\n",
    "'''\n",
    "\n",
    "a = float(input('Please input a number: '))\n",
    "b = float(input('Plase input another number: '))\n",
    "\n",
    "print(\n",
    "    '%f + %f = %f' % (a, b, a + b) +\n",
    "    '\\n' +\n",
    "    '%f - %f = %f' % (a, b, a - b) +\n",
    "    '\\n' +\n",
    "    '%f * %f = %f' % (a, b, a * b) +\n",
    "    '\\n' +\n",
    "    '%f / %f = %f' % (a, b, a / b) +\n",
    "    '\\n' +\n",
    "    '%f // %f = %f' % (a, b, a // b)\n",
    ")"
   ]
  },
  {
   "cell_type": "markdown",
   "metadata": {
    "slideshow": {
     "slide_type": "slide"
    }
   },
   "source": [
    "## Data Type"
   ]
  },
  {
   "cell_type": "code",
   "execution_count": null,
   "metadata": {
    "slideshow": {
     "slide_type": "fragment"
    }
   },
   "outputs": [],
   "source": [
    "print(type(10))\n",
    "print(type(1.1))\n",
    "print(type('hello'))\n",
    "print(type(True))\n",
    "print(type([1, 2, 3]))\n",
    "print(type((1, 2, 3)))\n",
    "print(type({1: 'a', 2: 'b', 3: 'c'}))\n",
    "print(type(bool))"
   ]
  },
  {
   "cell_type": "markdown",
   "metadata": {
    "slideshow": {
     "slide_type": "slide"
    }
   },
   "source": [
    "## List"
   ]
  },
  {
   "cell_type": "code",
   "execution_count": null,
   "metadata": {
    "slideshow": {
     "slide_type": "fragment"
    }
   },
   "outputs": [],
   "source": [
    "a = [1, 2, 3, 4, 5]\n",
    "print('a = ', a)\n",
    "print('a[0] = ', a[0])\n",
    "print('a[2] = ', a[2])\n",
    "print('a[4] equals to a[-1] ? ', a[4] == a[-1])\n",
    "print('a[2:4] = ', a[2:4])\n",
    "print('a[2:] = ', a[2:])\n",
    "print('a[:2] = ', a[:2])"
   ]
  },
  {
   "cell_type": "markdown",
   "metadata": {
    "slideshow": {
     "slide_type": "slide"
    }
   },
   "source": [
    "## Modify List"
   ]
  },
  {
   "cell_type": "code",
   "execution_count": null,
   "metadata": {
    "scrolled": true,
    "slideshow": {
     "slide_type": "fragment"
    }
   },
   "outputs": [],
   "source": [
    "lst = [1, 2, 3, 4, 5]\n",
    "lst.append('new one')\n",
    "print('Modified lst = ', lst)\n",
    "print('Pop one element from list lst = ', lst.pop())\n",
    "print('lst after popped = ', lst)\n",
    "lst.remove(3)\n",
    "print('lst after remove element 3 = ', lst)"
   ]
  },
  {
   "cell_type": "markdown",
   "metadata": {
    "slideshow": {
     "slide_type": "slide"
    }
   },
   "source": [
    "## Tuple"
   ]
  },
  {
   "cell_type": "code",
   "execution_count": null,
   "metadata": {
    "slideshow": {
     "slide_type": "fragment"
    }
   },
   "outputs": [],
   "source": [
    "a = (1, 2, 3, 4, 5)\n",
    "print('a = ', a)\n",
    "print('a[0] = ', a[0])\n",
    "print('a[2] = ', a[2])\n",
    "print('a[4] equals to a[-1] ? ', a[4] == a[-1])\n",
    "print('a[2:4] = ', a[2:4])\n",
    "print('a[2:] = ', a[2:])\n",
    "print('a[:2] = ', a[:2])"
   ]
  },
  {
   "cell_type": "markdown",
   "metadata": {
    "slideshow": {
     "slide_type": "slide"
    }
   },
   "source": [
    "## Boolean Operations"
   ]
  },
  {
   "cell_type": "code",
   "execution_count": null,
   "metadata": {
    "slideshow": {
     "slide_type": "fragment"
    }
   },
   "outputs": [],
   "source": [
    "a = True\n",
    "b = False\n",
    "print(a or b)\n",
    "print(a and b)\n",
    "print(not (a and b))\n",
    "print(not (a or b))"
   ]
  },
  {
   "cell_type": "markdown",
   "metadata": {
    "slideshow": {
     "slide_type": "slide"
    }
   },
   "source": [
    "## Dictionary"
   ]
  },
  {
   "cell_type": "code",
   "execution_count": null,
   "metadata": {
    "slideshow": {
     "slide_type": "fragment"
    }
   },
   "outputs": [],
   "source": [
    "a = {\n",
    "    'a': 32,\n",
    "    1: 'b',\n",
    "}\n",
    "print(a['a'])\n",
    "print(a[1])\n",
    "print(a.keys())"
   ]
  },
  {
   "cell_type": "markdown",
   "metadata": {
    "slideshow": {
     "slide_type": "slide"
    }
   },
   "source": [
    "# Flow Control"
   ]
  },
  {
   "cell_type": "markdown",
   "metadata": {
    "slideshow": {
     "slide_type": "subslide"
    }
   },
   "source": [
    "## if - else - elif"
   ]
  },
  {
   "cell_type": "code",
   "execution_count": null,
   "metadata": {
    "slideshow": {
     "slide_type": "fragment"
    }
   },
   "outputs": [],
   "source": [
    "a = int(input('Type in an integer.'))\n",
    "if a > 0:\n",
    "    print('Positive.')\n",
    "elif a < 0:\n",
    "    print('Negative.')\n",
    "else:\n",
    "    print('Zero.')"
   ]
  },
  {
   "cell_type": "markdown",
   "metadata": {
    "slideshow": {
     "slide_type": "subslide"
    }
   },
   "source": [
    "## for loop"
   ]
  },
  {
   "cell_type": "code",
   "execution_count": null,
   "metadata": {
    "slideshow": {
     "slide_type": "fragment"
    }
   },
   "outputs": [],
   "source": [
    "for i in range(1, 100, 10):\n",
    "    print(i)"
   ]
  },
  {
   "cell_type": "code",
   "execution_count": null,
   "metadata": {
    "slideshow": {
     "slide_type": "subslide"
    }
   },
   "outputs": [],
   "source": [
    "lst = ['apple', 'banana', 'cat', 'dog', 'elephant']\n",
    "for idx, item in enumerate(lst):\n",
    "    print('%d: %s' % (idx, item))"
   ]
  },
  {
   "cell_type": "code",
   "execution_count": null,
   "metadata": {
    "slideshow": {
     "slide_type": "subslide"
    }
   },
   "outputs": [],
   "source": [
    "info = {\n",
    "    'Name': 'John',\n",
    "    'ID': 'I12345678',\n",
    "    'Gender': 'male',\n",
    "    'Age': 34,\n",
    "    'Score': 98\n",
    "}\n",
    "\n",
    "for key in info:\n",
    "    print('{}: {}'.format(key, info[key]))"
   ]
  },
  {
   "cell_type": "markdown",
   "metadata": {
    "slideshow": {
     "slide_type": "subslide"
    }
   },
   "source": [
    "## while loop"
   ]
  },
  {
   "cell_type": "code",
   "execution_count": null,
   "metadata": {
    "slideshow": {
     "slide_type": "fragment"
    }
   },
   "outputs": [],
   "source": [
    "idx = 0\n",
    "while idx <= 100:\n",
    "    idx += 10\n",
    "    print(idx)"
   ]
  },
  {
   "cell_type": "markdown",
   "metadata": {
    "slideshow": {
     "slide_type": "slide"
    }
   },
   "source": [
    "# Define functions"
   ]
  },
  {
   "cell_type": "code",
   "execution_count": null,
   "metadata": {
    "slideshow": {
     "slide_type": "fragment"
    }
   },
   "outputs": [],
   "source": [
    "def factorial(x):\n",
    "    if x == 1 or x == 0:\n",
    "        return 1\n",
    "    else:\n",
    "        return x * factorial(x - 1)\n",
    "\n",
    "a = int(input('Type in a nonnegative integer.'))\n",
    "assert a >= 0\n",
    "print('The factorial of %d is %d' % (a, factorial(a)))"
   ]
  },
  {
   "cell_type": "markdown",
   "metadata": {
    "slideshow": {
     "slide_type": "slide"
    }
   },
   "source": [
    "# Class"
   ]
  },
  {
   "cell_type": "code",
   "execution_count": null,
   "metadata": {
    "slideshow": {
     "slide_type": "subslide"
    }
   },
   "outputs": [],
   "source": [
    "class Point:\n",
    "    \n",
    "    def __init__(self, x, y):\n",
    "        self.x = x\n",
    "        self.y = y\n",
    "\n",
    "class Rectangle:\n",
    "    \n",
    "    def __init__(self, origin, height, width):\n",
    "        self.origin = origin\n",
    "        self.height = height\n",
    "        self.width = width\n",
    "    \n",
    "    def get_area(self):\n",
    "        print(self.height * self.width)\n",
    "    \n",
    "    def get_center(self):\n",
    "        print(self.origin.x + self.height/2, self.origin.y + self.width/2)\n",
    "    "
   ]
  },
  {
   "cell_type": "code",
   "execution_count": null,
   "metadata": {
    "slideshow": {
     "slide_type": "fragment"
    }
   },
   "outputs": [],
   "source": [
    "orig = Point(3, 4)\n",
    "rect = Rectangle(orig, 8, 6)\n",
    "rect.get_area()\n",
    "rect.get_center()"
   ]
  },
  {
   "cell_type": "markdown",
   "metadata": {
    "slideshow": {
     "slide_type": "subslide"
    }
   },
   "source": [
    "## Inheritance"
   ]
  },
  {
   "cell_type": "code",
   "execution_count": null,
   "metadata": {
    "slideshow": {
     "slide_type": "fragment"
    }
   },
   "outputs": [],
   "source": [
    "class Square(Rectangle):\n",
    "    \n",
    "    def __init__(self, origin, width):\n",
    "        super().__init__(origin, width, width)\n",
    "\n",
    "orig = Point(3, 4)\n",
    "squa= Square(orig, 8)\n",
    "squa.get_area()\n",
    "squa.get_center()"
   ]
  }
 ],
 "metadata": {
  "kernelspec": {
   "display_name": "Python 3",
   "language": "python",
   "name": "python3"
  },
  "language_info": {
   "codemirror_mode": {
    "name": "ipython",
    "version": 3
   },
   "file_extension": ".py",
   "mimetype": "text/x-python",
   "name": "python",
   "nbconvert_exporter": "python",
   "pygments_lexer": "ipython3",
   "version": "3.7.3"
  },
  "rise": {
   "autolaunch": true,
   "enable_chalkboard": true
  }
 },
 "nbformat": 4,
 "nbformat_minor": 2
}
